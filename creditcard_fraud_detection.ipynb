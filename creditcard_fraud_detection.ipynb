{
  "cells": [
    {
      "cell_type": "code",
      "execution_count": null,
      "metadata": {
        "colab": {
          "base_uri": "https://localhost:8080/"
        },
        "id": "_WYw0yAMQ3Qn",
        "outputId": "d7a647b8-879c-4379-da0a-2cf2b7ffb210"
      },
      "outputs": [
        {
          "output_type": "stream",
          "name": "stdout",
          "text": [
            "<class 'pandas.core.frame.DataFrame'>\n",
            "RangeIndex: 11959 entries, 0 to 11958\n",
            "Data columns (total 31 columns):\n",
            " #   Column  Non-Null Count  Dtype  \n",
            "---  ------  --------------  -----  \n",
            " 0   Time    11959 non-null  int64  \n",
            " 1   V1      11959 non-null  float64\n",
            " 2   V2      11959 non-null  float64\n",
            " 3   V3      11959 non-null  float64\n",
            " 4   V4      11959 non-null  float64\n",
            " 5   V5      11959 non-null  float64\n",
            " 6   V6      11959 non-null  float64\n",
            " 7   V7      11959 non-null  float64\n",
            " 8   V8      11959 non-null  float64\n",
            " 9   V9      11959 non-null  float64\n",
            " 10  V10     11959 non-null  float64\n",
            " 11  V11     11959 non-null  float64\n",
            " 12  V12     11959 non-null  float64\n",
            " 13  V13     11959 non-null  float64\n",
            " 14  V14     11959 non-null  float64\n",
            " 15  V15     11959 non-null  float64\n",
            " 16  V16     11959 non-null  float64\n",
            " 17  V17     11959 non-null  float64\n",
            " 18  V18     11959 non-null  float64\n",
            " 19  V19     11959 non-null  float64\n",
            " 20  V20     11958 non-null  float64\n",
            " 21  V21     11958 non-null  float64\n",
            " 22  V22     11958 non-null  float64\n",
            " 23  V23     11958 non-null  float64\n",
            " 24  V24     11958 non-null  float64\n",
            " 25  V25     11958 non-null  float64\n",
            " 26  V26     11958 non-null  float64\n",
            " 27  V27     11958 non-null  float64\n",
            " 28  V28     11958 non-null  float64\n",
            " 29  Amount  11958 non-null  float64\n",
            " 30  Class   11958 non-null  float64\n",
            "dtypes: float64(30), int64(1)\n",
            "memory usage: 2.8 MB\n"
          ]
        }
      ],
      "source": [
        "import numpy as np\n",
        "import scipy as sp\n",
        "import pandas as pd\n",
        "import matplotlib as mpl\n",
        "import matplotlib.pyplot as plt\n",
        "import seaborn as sns\n",
        "pd.set_option('display.max_colwidth', 1000, 'display.max_rows', None, 'display.max_columns', None)\n",
        "%matplotlib inline\n",
        "mpl.style.use('ggplot')\n",
        "sns.set(style='whitegrid')\n",
        "import tensorflow as tf\n",
        "from tensorflow import keras\n",
        "from tensorflow.keras import Sequential\n",
        "from tensorflow.keras.layers import Flatten,Dense,Dropout,BatchNormalization\n",
        "from tensorflow.keras.layers import Conv1D,MaxPool1D\n",
        "transactions = pd.read_csv('/creditcard.csv')\n",
        "transactions.shape\n",
        "(284807, 31)\n",
        "transactions.info()\n"
      ]
    }
  ],
  "metadata": {
    "colab": {
      "provenance": []
    },
    "kernelspec": {
      "display_name": "Python 3",
      "name": "python3"
    },
    "language_info": {
      "name": "python"
    }
  },
  "nbformat": 4,
  "nbformat_minor": 0
}